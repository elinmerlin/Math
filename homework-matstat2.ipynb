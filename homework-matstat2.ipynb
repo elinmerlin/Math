{
 "cells": [
  {
   "cell_type": "markdown",
   "id": "ed2d5d6a",
   "metadata": {},
   "source": [
    "#### 1. Случайная непрерывная величина A имеет равномерное распределение на промежутке (200, 800]. Найдите ее среднее значение и дисперсию."
   ]
  },
  {
   "cell_type": "code",
   "execution_count": 12,
   "id": "31d18b9d",
   "metadata": {},
   "outputs": [
    {
     "name": "stdout",
     "output_type": "stream",
     "text": [
      "500 30000\n"
     ]
    }
   ],
   "source": [
    "numbers = [x for x in range(201, 801)]\n",
    "mean_value = sum(numbers) / len(numbers)\n",
    "variance = sum(((x - mean_value)**2 for x in numbers)) / len(numbers)\n",
    "print(round(mean_value), round(variance))"
   ]
  },
  {
   "cell_type": "markdown",
   "id": "0d08e1a4",
   "metadata": {},
   "source": [
    "#### 2. О случайной непрерывной равномерно распределенной величине B известно, что ее дисперсия равна 0.2. Можно ли найти правую границу величины B и ее среднее значение зная, что левая граница равна 0.5? Если да, найдите ее."
   ]
  },
  {
   "cell_type": "code",
   "execution_count": 16,
   "id": "ceb2d4b2",
   "metadata": {},
   "outputs": [
    {
     "name": "stdout",
     "output_type": "stream",
     "text": [
      "Правая граница величины - 2.05\n"
     ]
    }
   ],
   "source": [
    "# правую границу находим, подставляя заданные значения в формулу ((прав_гр - лев_гр)**2)/12\n",
    "\n",
    "b = (0.2 * 12)**(1/2) + 0.5\n",
    "print(f'Правая граница величины - {round(b, 2)}')"
   ]
  },
  {
   "cell_type": "markdown",
   "id": "d2a19ee0",
   "metadata": {},
   "source": [
    "#### 3. Непрерывная случайная величина X распределена нормально и задана плотностью распределения. f(x) = (1 / (4 * sqrt(2*pi))) * (exp(-(x+2)**2) / 32).\n",
    "> Найдите:\n",
    ">- а). M(X)\n",
    ">- б). D(X)\n",
    ">- в). std(X) (среднее квадратичное отклонение)"
   ]
  },
  {
   "cell_type": "markdown",
   "id": "d6d3f9ec",
   "metadata": {},
   "source": [
    "#### a) M(X) = -2\n",
    "#### б) D(X) = 16\n",
    "#### в) std(X) = 4"
   ]
  },
  {
   "cell_type": "markdown",
   "id": "f17c5f01",
   "metadata": {},
   "source": [
    "#### 4. Рост взрослого населения города X имеет нормальное распределение. Причем, средний рост равен 174 см, а среднее квадратичное отклонение равно 8 см. Какова вероятность того, что случайным образом выбранный взрослый человек имеет рост:\n",
    ">- а). больше 182 см\n",
    ">- б). больше 190 см\n",
    ">- в). от 166 см до 190 см\n",
    ">- г). от 166 см до 182 см\n",
    ">- д). от 158 см до 190 см\n",
    ">- е). не выше 150 см или не ниже 190 см\n",
    ">- ё). не выше 150 см или не ниже 198 см\n",
    ">- ж). ниже 166 см."
   ]
  },
  {
   "cell_type": "code",
   "execution_count": 34,
   "id": "edbb8b1d",
   "metadata": {},
   "outputs": [
    {
     "name": "stdout",
     "output_type": "stream",
     "text": [
      "Вероятность роста больше 182 см - 15.9\n",
      "Вероятность роста больше 174 см - 2.3\n",
      "Вероятность роста от 166 см до 190 см - 81.8\n",
      "Вероятность роста от 166 см до 182 см - 68.2\n",
      "Вероятность роста от 158 см до 190 см - 95.4\n",
      "Вероятность роста не выше 150 см или не ниже 190 см - 2.45\n",
      "Вероятность роста не выше 150 см или не ниже 198 см - 0.3\n",
      "Вероятность роста ниже 166 см - 15.9\n"
     ]
    }
   ],
   "source": [
    "sigma_probability_map = {\n",
    "    -3: 0.15,\n",
    "    -2: 2.3,\n",
    "    -1: 15.9,\n",
    "     0: 50,\n",
    "     1: 84.1,\n",
    "     2: 97.7,\n",
    "     3: 99.85\n",
    "}\n",
    "\n",
    "# а)\n",
    "sigma = (182 - 174)/8 \n",
    "p = 100 - sigma_probability_map[sigma]\n",
    "print(f'Вероятность роста больше 182 см - {round(p, 2)}')\n",
    "\n",
    "# б)\n",
    "sigma = (190 - 174)/8\n",
    "p = 100 - sigma_probability_map[sigma]\n",
    "print(f'Вероятность роста больше 174 см - {round(p, 2)}')\n",
    "\n",
    "# в)\n",
    "sigma1 = (166 - 174)/8 \n",
    "sigma2 = (190 - 174)/8 \n",
    "p = sigma_probability_map[sigma2] - sigma_probability_map[sigma1]\n",
    "print(f'Вероятность роста от 166 см до 190 см - {round(p, 2)}')\n",
    "\n",
    "# г)\n",
    "sigma1 = (166 - 174)/8 \n",
    "sigma2 = (182 - 174)/8 \n",
    "p = sigma_probability_map[sigma2] - sigma_probability_map[sigma1]\n",
    "print(f'Вероятность роста от 166 см до 182 см - {round(p, 2)}')\n",
    "\n",
    "# д)\n",
    "sigma1 = (158 - 174)/8 \n",
    "sigma2 = (190 - 174)/8 \n",
    "p = sigma_probability_map[sigma2] - sigma_probability_map[sigma1]\n",
    "print(f'Вероятность роста от 158 см до 190 см - {round(p, 2)}')\n",
    "\n",
    "# е)\n",
    "sigma1 = (150 - 174)/8 \n",
    "sigma2 = (190 - 174)/8 \n",
    "p = sigma_probability_map[sigma1] + (100 - sigma_probability_map[sigma2])\n",
    "print(f'Вероятность роста не выше 150 см или не ниже 190 см - {round(p, 2)}')\n",
    "\n",
    "# ё)\n",
    "sigma1 = (150 - 174)/8 \n",
    "sigma2 = (198 - 174)/8 \n",
    "p = sigma_probability_map[sigma1] + (100 - sigma_probability_map[sigma2])\n",
    "print(f'Вероятность роста не выше 150 см или не ниже 198 см - {round(p, 2)}')\n",
    "\n",
    "# ж)\n",
    "sigma = (174 - 166)/8 \n",
    "p = 100 - sigma_probability_map[sigma]\n",
    "print(f'Вероятность роста ниже 166 см - {round(p, 2)}')"
   ]
  },
  {
   "cell_type": "markdown",
   "id": "9a0eef92",
   "metadata": {},
   "source": [
    "#### 5. На сколько сигм (средних квадратичных отклонений) отклоняется рост человека, равный 190 см, от математического ожидания роста в популяции, в которой M(X) = 178 см и D(X) = 25 кв.см?"
   ]
  },
  {
   "cell_type": "code",
   "execution_count": 36,
   "id": "78defc13",
   "metadata": {},
   "outputs": [
    {
     "name": "stdout",
     "output_type": "stream",
     "text": [
      "2.4\n"
     ]
    }
   ],
   "source": [
    "sigma = (190 - 178) / (25)**(1/2)\n",
    "print(sigma)"
   ]
  },
  {
   "cell_type": "code",
   "execution_count": null,
   "id": "b7b8f70f",
   "metadata": {},
   "outputs": [],
   "source": []
  }
 ],
 "metadata": {
  "kernelspec": {
   "display_name": "Python 3 (ipykernel)",
   "language": "python",
   "name": "python3"
  },
  "language_info": {
   "codemirror_mode": {
    "name": "ipython",
    "version": 3
   },
   "file_extension": ".py",
   "mimetype": "text/x-python",
   "name": "python",
   "nbconvert_exporter": "python",
   "pygments_lexer": "ipython3",
   "version": "3.9.7"
  }
 },
 "nbformat": 4,
 "nbformat_minor": 5
}
