{
 "cells": [
  {
   "cell_type": "markdown",
   "id": "276045a8",
   "metadata": {},
   "source": [
    "### 1. Решение линейной системы"
   ]
  },
  {
   "cell_type": "code",
   "execution_count": 57,
   "id": "dc6f7eff",
   "metadata": {},
   "outputs": [
    {
     "data": {
      "text/plain": [
       "array([-9.2       ,  0.9       ,  6.46666667])"
      ]
     },
     "execution_count": 57,
     "metadata": {},
     "output_type": "execute_result"
    }
   ],
   "source": [
    "import numpy as np\n",
    "a = np.array([[1, 2, 3], [4, 0, 6], [7, 8, 9]])\n",
    "b = np.array([12, 2, 1])\n",
    "\n",
    "np.linalg.solve(a, b)"
   ]
  },
  {
   "cell_type": "markdown",
   "id": "bcc1c7e1",
   "metadata": {},
   "source": [
    "### 2. Псевдорешение переопределенной системы"
   ]
  },
  {
   "cell_type": "code",
   "execution_count": 18,
   "id": "d932d1b5",
   "metadata": {},
   "outputs": [
    {
     "name": "stderr",
     "output_type": "stream",
     "text": [
      "/var/folders/26/z2nqh3_14yvc9ykd149kl1540000gn/T/ipykernel_93081/1098264628.py:5: FutureWarning: `rcond` parameter will change to the default of machine precision times ``max(M, N)`` where M and N are the input matrix dimensions.\n",
      "To use the future default and silence this warning we advise to pass `rcond=None`, to keep using the old, explicitly pass `rcond=-1`.\n",
      "  np.linalg.lstsq(a, b)\n"
     ]
    },
    {
     "data": {
      "text/plain": [
       "(array([ 1.13919353, -0.90498444, -0.9009803 ]),\n",
       " array([0.71523211]),\n",
       " 3,\n",
       " array([15.2817306 ,  9.59852942,  3.65197794]))"
      ]
     },
     "execution_count": 18,
     "metadata": {},
     "output_type": "execute_result"
    }
   ],
   "source": [
    "import numpy as np\n",
    "a = np.array([[1, 2, -1], [3, -4, 0], [8, -5, 2], [2, 0, -5], [11, 4, -7]])\n",
    "b = np.array([1, 7, 12, 7, 15])\n",
    "\n",
    "np.linalg.lstsq(a, b)"
   ]
  },
  {
   "cell_type": "markdown",
   "id": "4f03a71b",
   "metadata": {},
   "source": [
    "### 3. Превращение системы в совместную "
   ]
  },
  {
   "cell_type": "code",
   "execution_count": 58,
   "id": "f136d710",
   "metadata": {},
   "outputs": [
    {
     "name": "stdout",
     "output_type": "stream",
     "text": [
      "Основная матрица: \n",
      "[[1 2 3]\n",
      " [4 5 6]\n",
      " [7 8 9]], \n",
      "Расширенная: \n",
      "[[ 1  2  3 12]\n",
      " [ 4  5  6  2]\n",
      " [ 7  8  9  1]]\n",
      "Ранг основной матрицы равен 2, расширенной - 3, система не имеет решений.\n",
      "Правый вектор изменен на [12, 24, 36]. Решение системы с измененным правым вектором: [0. 0. 4.]\n"
     ]
    }
   ],
   "source": [
    "import numpy as np\n",
    "a = np.array([[1, 2, 3], [4, 5, 6], [7, 8, 9]])\n",
    "b = np.array([[12, 2, 1]])\n",
    "c = np.concatenate([a, b.T], axis=1)\n",
    "print(f\"Основная матрица: \\n{a}, \\nРасширенная: \\n{c}\")\n",
    "if np.linalg.matrix_rank(a, 0.0001) == np.linalg.matrix_rank(c, 0.0001):\n",
    "    print(\"Ранги основной и расширенной матрицы равны, система имеет решение\")\n",
    "    print(np.linalg.solve(a, b[0]))\n",
    "else:\n",
    "    print(f\"Ранг основной матрицы равен {np.linalg.matrix_rank(a, 0.0001)}, расширенной - {np.linalg.matrix_rank(c, 0.0001)}, система не имеет решений.\")\n",
    "    b2 = np.array([12, 24, 36])\n",
    "    print(f\"Правый вектор изменен на [12, 24, 36]. Решение системы с измененным правым вектором: {np.linalg.solve(a, b2)}\")"
   ]
  },
  {
   "cell_type": "markdown",
   "id": "c31c8588",
   "metadata": {},
   "source": [
    "### 4. LU-разложение "
   ]
  },
  {
   "cell_type": "code",
   "execution_count": 71,
   "id": "b5810da7",
   "metadata": {},
   "outputs": [
    {
     "name": "stdout",
     "output_type": "stream",
     "text": [
      "P:\n",
      " [[0. 1. 0.]\n",
      " [0. 0. 1.]\n",
      " [1. 0. 0.]]\n",
      "L:\n",
      " [[ 1.    0.    0.  ]\n",
      " [ 0.25  1.    0.  ]\n",
      " [ 0.5  -0.4   1.  ]]\n",
      "U:\n",
      " [[  4.    28.    73.  ]\n",
      " [  0.    -5.   -15.25]\n",
      " [  0.     0.   -21.6 ]]\n",
      "[34.24074074 -1.89814815 -0.14814815]\n"
     ]
    }
   ],
   "source": [
    "import numpy as np\n",
    "import scipy.linalg\n",
    "a = np.array([[1, 2, 3], [2, 16, 21], [4, 28, 73]])\n",
    "P, L, U = scipy.linalg.lu(a)\n",
    "print(f\"P:\\n {P}\")\n",
    "print(f\"L:\\n {L}\")\n",
    "print(f\"U:\\n {U}\")\n",
    "b = np.array([30, 35, 73])\n",
    "print(np.linalg.solve(a, b))"
   ]
  },
  {
   "cell_type": "markdown",
   "id": "5522e050",
   "metadata": {},
   "source": [
    "### 5. Нормальное псевдорешение недоопределенной системы"
   ]
  },
  {
   "cell_type": "code",
   "execution_count": 87,
   "id": "de20d3a3",
   "metadata": {},
   "outputs": [
    {
     "name": "stderr",
     "output_type": "stream",
     "text": [
      "/var/folders/26/z2nqh3_14yvc9ykd149kl1540000gn/T/ipykernel_93081/307100539.py:13: FutureWarning: `rcond` parameter will change to the default of machine precision times ``max(M, N)`` where M and N are the input matrix dimensions.\n",
      "To use the future default and silence this warning we advise to pass `rcond=None`, to keep using the old, explicitly pass `rcond=-1`.\n",
      "  np.linalg.lstsq(a, b)\n"
     ]
    },
    {
     "data": {
      "text/plain": [
       "(array([ 1.38191882, -0.18081181,  0.0202952 ]),\n",
       " array([], dtype=float64),\n",
       " 2,\n",
       " array([9.65316119, 2.41173777]))"
      ]
     },
     "execution_count": 87,
     "metadata": {},
     "output_type": "execute_result"
    },
    {
     "data": {
      "image/png": "[encoded data removed]",
      "text/plain": [
       "<Figure size 432x288 with 1 Axes>"
      ]
     },
     "metadata": {
      "needs_background": "light"
     },
     "output_type": "display_data"
    }
   ],
   "source": [
    "%matplotlib inline\n",
    "import numpy as np\n",
    "import matplotlib.pyplot as plt\n",
    "a = np.array([[1, 2, -1], [8, -5, 2]])\n",
    "b = np.array([1, 12])\n",
    "\n",
    "def Q(x):\n",
    "    return(x**2 + (10*x-14)**2 + (21*x - 29)**2)\n",
    "\n",
    "x = np.linspace(1, 2, 201)\n",
    "plt.plot(x, Q(x))\n",
    "plt.grid(True)\n",
    "\n",
    "np.linalg.lstsq(a, b)"
   ]
  },
  {
   "cell_type": "markdown",
   "id": "2715d6c6",
   "metadata": {},
   "source": [
    "### 6. QR-разложение"
   ]
  },
  {
   "cell_type": "code",
   "execution_count": 104,
   "id": "63a5e4e8",
   "metadata": {},
   "outputs": [
    {
     "name": "stdout",
     "output_type": "stream",
     "text": [
      "[[-0.12309149  0.90453403  0.40824829]\n",
      " [-0.49236596  0.30151134 -0.81649658]\n",
      " [-0.86164044 -0.30151134  0.40824829]]\n",
      "[[-8.12403840e+00 -9.60113630e+00 -1.10782342e+01]\n",
      " [ 0.00000000e+00  9.04534034e-01  1.80906807e+00]\n",
      " [ 0.00000000e+00  0.00000000e+00 -1.77635684e-15]]\n"
     ]
    }
   ],
   "source": [
    "import numpy as np\n",
    "a = np.array([[1, 2, 3], [4, 5, 6], [7, 8, 9]])\n",
    "b = np.array([2, 5, 11])\n",
    "Q, R = np.linalg.qr(a)\n",
    "print(Q)\n",
    "print(R)"
   ]
  },
  {
   "cell_type": "code",
   "execution_count": 103,
   "id": "47e5ee81",
   "metadata": {},
   "outputs": [
    {
     "name": "stdout",
     "output_type": "stream",
     "text": [
      "[1.50000000e+00 9.32822279e-15 0.00000000e+00]\n",
      "(array([ 1.25,  0.5 , -0.25]), array([], dtype=float64), 2, array([1.68481034e+01, 1.06836951e+00, 1.47280825e-16]))\n"
     ]
    },
    {
     "name": "stderr",
     "output_type": "stream",
     "text": [
      "/var/folders/26/z2nqh3_14yvc9ykd149kl1540000gn/T/ipykernel_93081/3184059846.py:6: FutureWarning: `rcond` parameter will change to the default of machine precision times ``max(M, N)`` where M and N are the input matrix dimensions.\n",
      "To use the future default and silence this warning we advise to pass `rcond=None`, to keep using the old, explicitly pass `rcond=-1`.\n",
      "  print(np.linalg.lstsq(a, b))\n"
     ]
    }
   ],
   "source": [
    "R1 = R[:2, :2]\n",
    "B1 = np.dot(np.transpose(Q), b)[:2]\n",
    "X1 = np.linalg.solve(R1, B1)\n",
    "X = np.append(X1, 0)\n",
    "print(X)\n",
    "print(np.linalg.lstsq(a, b))"
   ]
  },
  {
   "cell_type": "code",
   "execution_count": null,
   "id": "0f4e0e39",
   "metadata": {},
   "outputs": [],
   "source": []
  }
 ],
 "metadata": {
  "kernelspec": {
   "display_name": "Python 3 (ipykernel)",
   "language": "python",
   "name": "python3"
  },
  "language_info": {
   "codemirror_mode": {
    "name": "ipython",
    "version": 3
   },
   "file_extension": ".py",
   "mimetype": "text/x-python",
   "name": "python",
   "nbconvert_exporter": "python",
   "pygments_lexer": "ipython3",
   "version": "3.9.7"
  }
 },
 "nbformat": 4,
 "nbformat_minor": 5
}
