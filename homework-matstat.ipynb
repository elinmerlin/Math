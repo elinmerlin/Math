{
 "cells": [
  {
   "cell_type": "code",
   "execution_count": 34,
   "id": "b72da44f",
   "metadata": {},
   "outputs": [],
   "source": [
    "from math import factorial\n",
    "import numpy as np"
   ]
  },
  {
   "cell_type": "markdown",
   "id": "e5b200a7",
   "metadata": {},
   "source": [
    "Даны значения зарплат из выборки выпускников: 100, 80, 75, 77, 89, 33, 45, 25, 65, 17, 30, 24, 57, 55, 70, 75, 65, 84, 90, 150. Посчитать (желательно без использования статистических методов наподобие std, var, mean) среднее арифметическое, среднее квадратичное отклонение, смещенную и несмещенную оценки дисперсий для данной выборки."
   ]
  },
  {
   "cell_type": "code",
   "execution_count": 35,
   "id": "a86507d2",
   "metadata": {},
   "outputs": [
    {
     "name": "stdout",
     "output_type": "stream",
     "text": [
      "среднее арифметическое - 65.3\n",
      "среднее квадратичное отклонение - 30.82\n",
      "несмещенная дисперсия - 1000.12, смещенная дисперсия - 950.11\n"
     ]
    }
   ],
   "source": [
    "salaries = [100, 80, 75, 77, 89, 33, 45, 25, 65, 17, 30, 24, 57, 55, 70, 75, 65, 84, 90, 150]\n",
    "\n",
    "mean_salary = sum(salaries)/len(salaries)\n",
    "print(f'среднее арифметическое - {mean_salary}')\n",
    "\n",
    "squared_residuals = [(salary - mean_salary)**2 for salary in salaries]\n",
    "std_salary = (sum(squared_residuals)/len(salaries))**(1/2)\n",
    "print(f'среднее квадратичное отклонение - {round(std_salary, 2)}')\n",
    "\n",
    "sample_variance = sum(squared_residuals)/(len(salaries) - 1)\n",
    "population_variance = sum(squared_residuals)/len(salaries)\n",
    "print(f'несмещенная дисперсия - {round(sample_variance, 2)}, смещенная дисперсия - {round(population_variance, 2)}')"
   ]
  },
  {
   "cell_type": "markdown",
   "id": "6832e23d",
   "metadata": {},
   "source": [
    "В первом ящике находится 8 мячей, из которых 5 - белые. Во втором ящике - 12 мячей, из которых 5 белых. Из первого ящика вытаскивают случайным образом два мяча, из второго - 4. Какова вероятность того, что 3 мяча белые?"
   ]
  },
  {
   "cell_type": "code",
   "execution_count": 36,
   "id": "4dc4dea9",
   "metadata": {},
   "outputs": [],
   "source": [
    "def combinations(n, k):\n",
    "    return factorial(n) / (factorial(k) * factorial(n - k))"
   ]
  },
  {
   "cell_type": "markdown",
   "id": "da3ef8f1",
   "metadata": {},
   "source": [
    "OOOOOqqq    OOOOOqqqqqqq\n",
    "          \n",
    "        qq qOOO\n",
    "        Oq qqOO\n",
    "        OO qqqO"
   ]
  },
  {
   "cell_type": "code",
   "execution_count": 38,
   "id": "7d02b042",
   "metadata": {},
   "outputs": [
    {
     "data": {
      "text/plain": [
       "0.3686868686868687"
      ]
     },
     "execution_count": 38,
     "metadata": {},
     "output_type": "execute_result"
    }
   ],
   "source": [
    "(combinations(3, 2)/combinations(8, 2)) * ((combinations(7, 1) * combinations(5, 3))/combinations(12, 4)) + ((combinations(3, 1) * combinations(5, 1))/combinations(8, 2)) * ((combinations(7, 2) * combinations(5, 2))/combinations(12, 4)) + (combinations(5, 2)/combinations(8, 2)) * ((combinations(7, 3) * combinations(5, 1))/combinations(12, 4))"
   ]
  },
  {
   "cell_type": "markdown",
   "id": "29d5a360",
   "metadata": {},
   "source": [
    "На соревновании по биатлону один из трех спортсменов стреляет и попадает в мишень. Вероятность попадания для первого спортсмена равна 0.9, для второго — 0.8, для третьего — 0.6. Найти вероятность того, что выстрел произведен: a). первым спортсменом б). вторым спортсменом в). третьим спортсменом."
   ]
  },
  {
   "cell_type": "markdown",
   "id": "bff03b57",
   "metadata": {},
   "source": [
    "Воспользуемся формулой Байеса\n",
    "$$P(B\\:|\\:A) = \\frac{P(B) \\cdot P(A\\:|\\:B)}{P(A)}$$\n",
    "\n",
    "При этом  Р(А) - вероятность попадания в мишень\n",
    "\n",
    "         Р(А|B) - вероятность попадания в мишень, если выстрелил тот или иной стрелок\n",
    "         \n",
    "         Р(B|A) - вероятность того, что выстрелил тот или иной стрелок, если выстрел был удачным\n",
    "         \n",
    "         P(B) - вероятность того, что выстрелил один из спортсменов\n"
   ]
  },
  {
   "cell_type": "code",
   "execution_count": 40,
   "id": "0c635214",
   "metadata": {},
   "outputs": [
    {
     "name": "stdout",
     "output_type": "stream",
     "text": [
      "Вероятность, что выстрел был произведен первым спортсменом - 0.39, вторым - 0.35, третьим - 0.26\n"
     ]
    }
   ],
   "source": [
    "first = (1/3 * 0.9)/(1/3 * 0.9 + 1/3 * 0.8 + 1/3 * 0.6)\n",
    "second = (1/3 * 0.8)/(1/3 * 0.9 + 1/3 * 0.8 + 1/3 * 0.6)\n",
    "third = (1/3 * 0.6)/(1/3 * 0.9 + 1/3 * 0.8 + 1/3 * 0.6)\n",
    "print(f'Вероятность, что выстрел был произведен первым спортсменом - {round(first, 2)}, вторым - {round(second, 2)}, третьим - {round(third, 2)}')"
   ]
  },
  {
   "cell_type": "markdown",
   "id": "25099b71",
   "metadata": {},
   "source": [
    "В университет на факультеты A и B поступило равное количество студентов, а на факультет C студентов поступило столько же, сколько на A и B вместе. Вероятность того, что студент факультета A сдаст первую сессию, равна 0.8. Для студента факультета B эта вероятность равна 0.7, а для студента факультета C - 0.9. Студент сдал первую сессию. Какова вероятность, что он учится: a). на факультете A б). на факультете B в). на факультете C?"
   ]
  },
  {
   "cell_type": "markdown",
   "id": "0e96a0b2",
   "metadata": {},
   "source": [
    "Так же воспользуемся формулой Байеса. \n",
    "Вероятность, что студент окажется из факультета А - 1/4. из В - 1/4, из С - 1/2"
   ]
  },
  {
   "cell_type": "code",
   "execution_count": 42,
   "id": "81636283",
   "metadata": {},
   "outputs": [
    {
     "name": "stdout",
     "output_type": "stream",
     "text": [
      "Вероятность, что студент из факультета А - 0.24, B - 0.21, C - 0.55\n"
     ]
    }
   ],
   "source": [
    "a_fac = (1/4 * 0.8)/(1/4 * 0.8 + 1/4 * 0.7 + 1/2 * 0.9)\n",
    "b_fac = (1/4 * 0.7)/(1/4 * 0.8 + 1/4 * 0.7 + 1/2 * 0.9)\n",
    "c_fac = (1/2 * 0.9)/(1/4 * 0.8 + 1/4 * 0.7 + 1/2 * 0.9)\n",
    "print(f'Вероятность, что студент из факультета А - {round(a_fac, 2)}, B - {round(b_fac, 2)}, C - {round(c_fac, 2)}')"
   ]
  },
  {
   "cell_type": "markdown",
   "id": "6856493e",
   "metadata": {},
   "source": [
    "Устройство состоит из трех деталей. Для первой детали вероятность выйти из строя в первый месяц равна 0.1, для второй - 0.2, для третьей - 0.25. Какова вероятность того, что в первый месяц выйдут из строя: а). все детали б). только две детали в). хотя бы одна деталь г). от одной до двух деталей?"
   ]
  },
  {
   "cell_type": "code",
   "execution_count": 43,
   "id": "28b428d2",
   "metadata": {},
   "outputs": [
    {
     "name": "stdout",
     "output_type": "stream",
     "text": [
      "0.005000000000000001 0.08000000000000002 0.45999999999999996 0.45499999999999996\n"
     ]
    }
   ],
   "source": [
    "# выйдут из строя все детали\n",
    "a = 0.1 * 0.2 * 0.25\n",
    "\n",
    "# только две детали \n",
    "b = (0.1 * 0.2 * 0.75) + (0.1 * 0.8 * 0.25) + (0.9 * 0.2 * 0.25)\n",
    "\n",
    "# хотя бы одна деталь\n",
    "c = 1 - (0.9 * 0.8 * 0.75)\n",
    "\n",
    "# от одной до двух деталей\n",
    "d = c - a\n",
    "\n",
    "\n",
    "print(a, b, c, d)"
   ]
  },
  {
   "cell_type": "code",
   "execution_count": null,
   "id": "02997d35",
   "metadata": {},
   "outputs": [],
   "source": []
  }
 ],
 "metadata": {
  "kernelspec": {
   "display_name": "Python 3 (ipykernel)",
   "language": "python",
   "name": "python3"
  },
  "language_info": {
   "codemirror_mode": {
    "name": "ipython",
    "version": 3
   },
   "file_extension": ".py",
   "mimetype": "text/x-python",
   "name": "python",
   "nbconvert_exporter": "python",
   "pygments_lexer": "ipython3",
   "version": "3.9.7"
  }
 },
 "nbformat": 4,
 "nbformat_minor": 5
}
