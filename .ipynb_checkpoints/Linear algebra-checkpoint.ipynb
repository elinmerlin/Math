{
 "cells": [
  {
   "cell_type": "code",
   "execution_count": 1,
   "id": "c9973483",
   "metadata": {},
   "outputs": [],
   "source": [
    "import numpy as np"
   ]
  },
  {
   "cell_type": "markdown",
   "id": "9f02ca74",
   "metadata": {},
   "source": [
    "### Задаем матрицу"
   ]
  },
  {
   "cell_type": "code",
   "execution_count": 3,
   "id": "207fa099",
   "metadata": {},
   "outputs": [
    {
     "name": "stdout",
     "output_type": "stream",
     "text": [
      "[[1 2 3]\n",
      " [4 5 6]\n",
      " [7 8 9]]\n"
     ]
    }
   ],
   "source": [
    "a = np.array([[1, 2, 3], [4, 5, 6], [7, 8, 9]])\n",
    "print(a)"
   ]
  },
  {
   "cell_type": "markdown",
   "id": "1649af52",
   "metadata": {},
   "source": [
    "### Транспонирование матрицы "
   ]
  },
  {
   "cell_type": "code",
   "execution_count": 6,
   "id": "a09596ba",
   "metadata": {},
   "outputs": [
    {
     "name": "stdout",
     "output_type": "stream",
     "text": [
      "[[1 4 7]\n",
      " [2 5 8]\n",
      " [3 6 9]]\n",
      "[[1 4 7]\n",
      " [2 5 8]\n",
      " [3 6 9]]\n"
     ]
    }
   ],
   "source": [
    "f = a.transpose()\n",
    "print(f)\n",
    "print(a.T) # этот метод короче"
   ]
  },
  {
   "cell_type": "markdown",
   "id": "2deba16c",
   "metadata": {},
   "source": [
    "### Умножение матриц"
   ]
  },
  {
   "cell_type": "code",
   "execution_count": 11,
   "id": "847a7f06",
   "metadata": {},
   "outputs": [
    {
     "data": {
      "text/plain": [
       "array([[ 14,  32,  50],\n",
       "       [ 32,  77, 122],\n",
       "       [ 50, 122, 194]])"
      ]
     },
     "execution_count": 11,
     "metadata": {},
     "output_type": "execute_result"
    }
   ],
   "source": [
    "np.dot(a, f)"
   ]
  },
  {
   "cell_type": "markdown",
   "id": "48023411",
   "metadata": {},
   "source": [
    "### Формирование единичной матрицы"
   ]
  },
  {
   "cell_type": "code",
   "execution_count": 13,
   "id": "8ca8829a",
   "metadata": {},
   "outputs": [
    {
     "data": {
      "text/plain": [
       "array([[1., 0., 0., 0.],\n",
       "       [0., 1., 0., 0.],\n",
       "       [0., 0., 1., 0.],\n",
       "       [0., 0., 0., 1.]])"
      ]
     },
     "execution_count": 13,
     "metadata": {},
     "output_type": "execute_result"
    }
   ],
   "source": [
    " np.identity(4)"
   ]
  },
  {
   "cell_type": "markdown",
   "id": "aaeac446",
   "metadata": {},
   "source": [
    "### Находим обратную матрицу"
   ]
  },
  {
   "cell_type": "code",
   "execution_count": 19,
   "id": "3b8a16cc",
   "metadata": {},
   "outputs": [
    {
     "data": {
      "text/plain": [
       "array([[-0.13675214,  0.17948718, -0.15384615],\n",
       "       [ 0.15669516, -0.05982906,  0.05128205],\n",
       "       [ 0.2962963 , -0.22222222,  0.33333333]])"
      ]
     },
     "execution_count": 19,
     "metadata": {},
     "output_type": "execute_result"
    }
   ],
   "source": [
    "b = np.array([[3, 9, 0], [13, 0, 6], [6, -8, 7]])\n",
    "np.linalg.inv(b)"
   ]
  },
  {
   "cell_type": "markdown",
   "id": "4f936ac1",
   "metadata": {},
   "source": [
    "### Находим определитель"
   ]
  },
  {
   "cell_type": "code",
   "execution_count": 21,
   "id": "c7f7a07f",
   "metadata": {},
   "outputs": [
    {
     "data": {
      "text/plain": [
       "-351.00000000000017"
      ]
     },
     "execution_count": 21,
     "metadata": {},
     "output_type": "execute_result"
    }
   ],
   "source": [
    "np.linalg.det(b)"
   ]
  },
  {
   "cell_type": "markdown",
   "id": "b1e8ffde",
   "metadata": {},
   "source": [
    "### Находим ранг матрицы"
   ]
  },
  {
   "cell_type": "code",
   "execution_count": 22,
   "id": "371957ff",
   "metadata": {},
   "outputs": [
    {
     "data": {
      "text/plain": [
       "3"
      ]
     },
     "execution_count": 22,
     "metadata": {},
     "output_type": "execute_result"
    }
   ],
   "source": [
    "np.linalg.matrix_rank(b)"
   ]
  },
  {
   "cell_type": "markdown",
   "id": "7d4c0eae",
   "metadata": {},
   "source": [
    "### Скалярное произведение векторов"
   ]
  },
  {
   "cell_type": "code",
   "execution_count": 23,
   "id": "033bad43",
   "metadata": {},
   "outputs": [
    {
     "data": {
      "text/plain": [
       "61"
      ]
     },
     "execution_count": 23,
     "metadata": {},
     "output_type": "execute_result"
    }
   ],
   "source": [
    "c = np.array([1, 7, 4])\n",
    "d = np.array([5, 8, 0])\n",
    "np.inner(c, d)"
   ]
  },
  {
   "cell_type": "markdown",
   "id": "6ebffe84",
   "metadata": {},
   "source": [
    "### Векторное произведение"
   ]
  },
  {
   "cell_type": "code",
   "execution_count": 24,
   "id": "c24cb01a",
   "metadata": {},
   "outputs": [
    {
     "data": {
      "text/plain": [
       "array([-32,  20, -27])"
      ]
     },
     "execution_count": 24,
     "metadata": {},
     "output_type": "execute_result"
    }
   ],
   "source": [
    "np.cross(c, d)"
   ]
  },
  {
   "cell_type": "markdown",
   "id": "fab78d41",
   "metadata": {},
   "source": [
    "### Операции с векторами "
   ]
  },
  {
   "cell_type": "code",
   "execution_count": 1,
   "id": "1edb4296",
   "metadata": {},
   "outputs": [],
   "source": [
    "%matplotlib inline\n",
    "import numpy as np\n",
    "import matplotlib.pyplot as plt"
   ]
  },
  {
   "cell_type": "code",
   "execution_count": 9,
   "id": "31ea4c50",
   "metadata": {},
   "outputs": [
    {
     "data": {
      "text/plain": [
       "(-5.0, 5.0)"
      ]
     },
     "execution_count": 9,
     "metadata": {},
     "output_type": "execute_result"
    },
    {
     "data": {
      "image/png": "[encoded data removed]",
      "text/plain": [
       "<Figure size 432x288 with 1 Axes>"
      ]
     },
     "metadata": {
      "needs_background": "light"
     },
     "output_type": "display_data"
    }
   ],
   "source": [
    "a = np.array([2, 2], float)\n",
    "U, V = a[0], a[1]\n",
    "plt.quiver(U, V, angles='xy', scale_units='xy', scale=1)\n",
    "# U, V - массивы с координатами направлений векторов, начало векторов автоматически с 0, 0\n",
    "plt.grid(True)\n",
    "plt.xlim(-5, 5)\n",
    "plt.ylim(-5, 5)"
   ]
  },
  {
   "cell_type": "code",
   "execution_count": 16,
   "id": "61822bf9",
   "metadata": {},
   "outputs": [
    {
     "data": {
      "text/plain": [
       "2.8284271247461903"
      ]
     },
     "execution_count": 16,
     "metadata": {},
     "output_type": "execute_result"
    }
   ],
   "source": [
    "np.linalg.norm(a) # Находим длину вектора (норму, хоть и понтяие нормы вектора шире, чем просто длина)"
   ]
  },
  {
   "cell_type": "code",
   "execution_count": 17,
   "id": "76be3532",
   "metadata": {},
   "outputs": [
    {
     "data": {
      "text/plain": [
       "(-5.0, 5.0)"
      ]
     },
     "execution_count": 17,
     "metadata": {},
     "output_type": "execute_result"
    },
    {
     "data": {
      "image/png": "[encoded data removed]",
      "text/plain": [
       "<Figure size 432x288 with 1 Axes>"
      ]
     },
     "metadata": {
      "needs_background": "light"
     },
     "output_type": "display_data"
    }
   ],
   "source": [
    "U, V = np.array([2, 1]), np.array([2, 2])\n",
    "X, Y = np.array([1, 0]), np.array([2, 0])\n",
    "plt.quiver(X, Y, U, V, angles='xy', scale_units='xy', scale=1)\n",
    "# Можно задать координаты начала векторов X, Y\n",
    "plt.grid(True)\n",
    "plt.xlim(-5, 5)\n",
    "plt.ylim(-5, 5)"
   ]
  },
  {
   "cell_type": "markdown",
   "id": "7a68fc5d",
   "metadata": {},
   "source": [
    "### Системы линейных алгебраических уравнений"
   ]
  },
  {
   "cell_type": "code",
   "execution_count": 18,
   "id": "b0d167a4",
   "metadata": {},
   "outputs": [
    {
     "data": {
      "text/plain": [
       "array([1. , 0.5])"
      ]
     },
     "execution_count": 18,
     "metadata": {},
     "output_type": "execute_result"
    }
   ],
   "source": [
    "# Задаем матрицы А и В (леваые и правые части СЛАУ соответственно)\n",
    "A = np.array([[3, 2], [3, -4]])\n",
    "B = np.array([4, 1])\n",
    "# Находим решение СЛАУ\n",
    "np.linalg.solve(A, B)"
   ]
  },
  {
   "cell_type": "markdown",
   "id": "c7225138",
   "metadata": {},
   "source": [
    "### Находим псевдорешение переопределенной СЛАУ"
   ]
  },
  {
   "cell_type": "code",
   "execution_count": 26,
   "id": "ec332eb0",
   "metadata": {},
   "outputs": [
    {
     "name": "stderr",
     "output_type": "stream",
     "text": [
      "/var/folders/26/z2nqh3_14yvc9ykd149kl1540000gn/T/ipykernel_2957/1613940385.py:3: FutureWarning: `rcond` parameter will change to the default of machine precision times ``max(M, N)`` where M and N are the input matrix dimensions.\n",
      "To use the future default and silence this warning we advise to pass `rcond=None`, to keep using the old, explicitly pass `rcond=-1`.\n",
      "  np.linalg.lstsq(A, B)\n"
     ]
    },
    {
     "data": {
      "text/plain": [
       "(array([1.22988506, 0.56896552]),\n",
       " array([1.24137931]),\n",
       " 2,\n",
       " array([7.41806959, 4.35571391]))"
      ]
     },
     "execution_count": 26,
     "metadata": {},
     "output_type": "execute_result"
    }
   ],
   "source": [
    "A = np.array([[3, 2], [3, -4], [6, 0]])\n",
    "B = np.array([4, 1, 8])\n",
    "np.linalg.lstsq(A, B)"
   ]
  },
  {
   "cell_type": "markdown",
   "id": "3fa244a7",
   "metadata": {},
   "source": [
    "### Находим ранг матрицы"
   ]
  },
  {
   "cell_type": "code",
   "execution_count": 22,
   "id": "f60cf1e9",
   "metadata": {},
   "outputs": [
    {
     "data": {
      "text/plain": [
       "2"
      ]
     },
     "execution_count": 22,
     "metadata": {},
     "output_type": "execute_result"
    }
   ],
   "source": [
    "np.linalg.matrix_rank(A, 0.0001)\n",
    "# Второе число - порог, ниже которого ранг считается 0"
   ]
  },
  {
   "cell_type": "markdown",
   "id": "7ba4fd89",
   "metadata": {},
   "source": [
    "### Делаем совместную матрицу"
   ]
  },
  {
   "cell_type": "code",
   "execution_count": 29,
   "id": "917eefeb",
   "metadata": {},
   "outputs": [
    {
     "name": "stdout",
     "output_type": "stream",
     "text": [
      "[[ 3  2  4]\n",
      " [ 3 -4  1]\n",
      " [ 6  0  8]]\n"
     ]
    }
   ],
   "source": [
    "A = np.array([[3, 2], [3, -4], [6, 0]])\n",
    "B = np.array([[4, 1, 8]])\n",
    "C = np.concatenate([A, B.T], axis=1)\n",
    "print(C)"
   ]
  },
  {
   "cell_type": "markdown",
   "id": "8d49e096",
   "metadata": {},
   "source": [
    "### LU-разложение"
   ]
  },
  {
   "cell_type": "code",
   "execution_count": 30,
   "id": "aab8c327",
   "metadata": {},
   "outputs": [
    {
     "name": "stdout",
     "output_type": "stream",
     "text": [
      "P:\n",
      " [[0. 1. 0.]\n",
      " [0. 0. 1.]\n",
      " [1. 0. 0.]]\n",
      "L:\n",
      " [[ 1.    0.    0.  ]\n",
      " [ 0.25  1.    0.  ]\n",
      " [ 0.5  -0.4   1.  ]]\n",
      "U:\n",
      " [[  4.    28.    73.  ]\n",
      " [  0.    -5.   -15.25]\n",
      " [  0.     0.   -21.6 ]]\n"
     ]
    }
   ],
   "source": [
    "import numpy as np\n",
    "import scipy.linalg\n",
    "a = np.array([[1, 2, 3], [2, 16, 21], [4, 28, 73]])\n",
    "P, L, U = scipy.linalg.lu(a)\n",
    "print(f\"P:\\n {P}\")\n",
    "print(f\"L:\\n {L}\")\n",
    "print(f\"U:\\n {U}\")"
   ]
  },
  {
   "cell_type": "markdown",
   "id": "c998ad32",
   "metadata": {},
   "source": [
    "### Разложение Холецкого"
   ]
  },
  {
   "cell_type": "code",
   "execution_count": 39,
   "id": "3360f64a",
   "metadata": {},
   "outputs": [
    {
     "name": "stdout",
     "output_type": "stream",
     "text": [
      "[[ 7  3 -1  2]\n",
      " [ 3  8  1 -4]\n",
      " [-1  1  4 -1]\n",
      " [ 2 -4 -1  6]]\n",
      "[[ 2.64575131  0.          0.          0.        ]\n",
      " [ 1.13389342  2.59119388  0.          0.        ]\n",
      " [-0.37796447  0.55131785  1.88499111  0.        ]\n",
      " [ 0.75592895 -1.87448068  0.16931058  1.37339999]]\n",
      "L:\n",
      " [[ 2.64575131  1.13389342 -0.37796447  0.75592895]\n",
      " [ 0.          2.59119388  0.55131785 -1.87448068]\n",
      " [ 0.          0.          1.88499111  0.16931058]\n",
      " [ 0.          0.          0.          1.37339999]]\n",
      "b:\n",
      " [[ 7.  3. -1.  2.]\n",
      " [ 3.  8.  1. -4.]\n",
      " [-1.  1.  4. -1.]\n",
      " [ 2. -4. -1.  6.]]\n"
     ]
    }
   ],
   "source": [
    "a = np.array([[7, 3, -1, 2], [3, 8, 1, -4], [-1, 1, 4, -1], [2, -4, -1, 6]])\n",
    "L = scipy.linalg.cholesky(a)\n",
    "b = np.dot(np.transpose(L), L)\n",
    "print(a)\n",
    "print(np.transpose(L))\n",
    "print(f\"L:\\n {L}\")\n",
    "print(f\"b:\\n {b}\")"
   ]
  }
 ],
 "metadata": {
  "kernelspec": {
   "display_name": "Python 3 (ipykernel)",
   "language": "python",
   "name": "python3"
  },
  "language_info": {
   "codemirror_mode": {
    "name": "ipython",
    "version": 3
   },
   "file_extension": ".py",
   "mimetype": "text/x-python",
   "name": "python",
   "nbconvert_exporter": "python",
   "pygments_lexer": "ipython3",
   "version": "3.9.7"
  }
 },
 "nbformat": 4,
 "nbformat_minor": 5
}
