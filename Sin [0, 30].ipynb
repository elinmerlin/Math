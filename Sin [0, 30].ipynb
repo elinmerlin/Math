{
 "cells": [
  {
   "cell_type": "code",
   "execution_count": 2,
   "id": "d3c504a4",
   "metadata": {},
   "outputs": [],
   "source": [
    "import numpy as np"
   ]
  },
  {
   "cell_type": "code",
   "execution_count": 3,
   "id": "d55e6c58",
   "metadata": {},
   "outputs": [
    {
     "name": "stdout",
     "output_type": "stream",
     "text": [
      "Sin(0°) = 0.0\n",
      "Sin(1°) = 0.01745240643728351\n",
      "Sin(2°) = 0.03489949670250097\n",
      "Sin(3°) = 0.052335956242943835\n",
      "Sin(4°) = 0.0697564737441253\n",
      "Sin(5°) = 0.08715574274765817\n",
      "Sin(6°) = 0.10452846326765347\n",
      "Sin(7°) = 0.12186934340514748\n",
      "Sin(8°) = 0.13917310096006544\n",
      "Sin(9°) = 0.15643446504023087\n",
      "Sin(10°) = 0.17364817766693033\n",
      "Sin(11°) = 0.1908089953765448\n",
      "Sin(12°) = 0.20791169081775934\n",
      "Sin(13°) = 0.224951054343865\n",
      "Sin(14°) = 0.24192189559966773\n",
      "Sin(15°) = 0.25881904510252074\n",
      "Sin(16°) = 0.27563735581699916\n",
      "Sin(17°) = 0.29237170472273677\n",
      "Sin(18°) = 0.3090169943749474\n",
      "Sin(19°) = 0.3255681544571567\n",
      "Sin(20°) = 0.3420201433256687\n",
      "Sin(21°) = 0.35836794954530027\n",
      "Sin(22°) = 0.374606593415912\n",
      "Sin(23°) = 0.39073112848927377\n",
      "Sin(24°) = 0.4067366430758002\n",
      "Sin(25°) = 0.42261826174069944\n",
      "Sin(26°) = 0.4383711467890774\n",
      "Sin(27°) = 0.45399049973954675\n",
      "Sin(28°) = 0.4694715627858908\n",
      "Sin(29°) = 0.48480962024633706\n",
      "Sin(30°) = 0.49999999999999994\n"
     ]
    }
   ],
   "source": [
    "for deg in range(31):\n",
    "    print(f'Sin({deg}°) = {np.sin(np.deg2rad(deg))}')"
   ]
  }
 ],
 "metadata": {
  "kernelspec": {
   "display_name": "Python 3 (ipykernel)",
   "language": "python",
   "name": "python3"
  },
  "language_info": {
   "codemirror_mode": {
    "name": "ipython",
    "version": 3
   },
   "file_extension": ".py",
   "mimetype": "text/x-python",
   "name": "python",
   "nbconvert_exporter": "python",
   "pygments_lexer": "ipython3",
   "version": "3.9.7"
  }
 },
 "nbformat": 4,
 "nbformat_minor": 5
}
