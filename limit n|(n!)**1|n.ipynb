{
 "cells": [
  {
   "cell_type": "code",
   "execution_count": 1,
   "id": "32bf5278",
   "metadata": {},
   "outputs": [],
   "source": [
    "import math\n",
    "from sympy import factorial"
   ]
  },
  {
   "cell_type": "markdown",
   "id": "3167d00c",
   "metadata": {},
   "source": [
    "Зададим функцию f(x), точность eps, выведем значение f(x) при достижении заданной точности и n."
   ]
  },
  {
   "cell_type": "code",
   "execution_count": 2,
   "id": "419759d6",
   "metadata": {},
   "outputs": [],
   "source": [
    "def f(n):\n",
    "    return n / pow(factorial(n), 1 / n)"
   ]
  },
  {
   "cell_type": "code",
   "execution_count": 3,
   "id": "caffcb12",
   "metadata": {},
   "outputs": [
    {
     "name": "stdout",
     "output_type": "stream",
     "text": [
      "2.71698842372422 11779\n"
     ]
    }
   ],
   "source": [
    "n = 1\n",
    "eps = 10 ** -7\n",
    "while True:\n",
    "    f(n)\n",
    "    n += 1\n",
    "    if abs(f(n-1) - f(n)) < eps:\n",
    "        break\n",
    "\n",
    "print(f(n), n)"
   ]
  },
  {
   "cell_type": "markdown",
   "id": "cb43ffab",
   "metadata": {},
   "source": [
    "Можем сделать вывод, что функция стремится к ***е***."
   ]
  }
 ],
 "metadata": {
  "kernelspec": {
   "display_name": "Python 3 (ipykernel)",
   "language": "python",
   "name": "python3"
  },
  "language_info": {
   "codemirror_mode": {
    "name": "ipython",
    "version": 3
   },
   "file_extension": ".py",
   "mimetype": "text/x-python",
   "name": "python",
   "nbconvert_exporter": "python",
   "pygments_lexer": "ipython3",
   "version": "3.9.7"
  }
 },
 "nbformat": 4,
 "nbformat_minor": 5
}
