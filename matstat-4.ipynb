{
 "cells": [
  {
   "cell_type": "code",
   "execution_count": 1,
   "id": "c8d61753",
   "metadata": {},
   "outputs": [],
   "source": [
    "import numpy as np"
   ]
  },
  {
   "cell_type": "markdown",
   "id": "a18e1f2e",
   "metadata": {},
   "source": [
    "#### 1. Даны значения величины заработной платы заемщиков банка (zp) и значения их поведенческого кредитного скоринга (ks):\n",
    "- zp = [35, 45, 190, 200, 40, 70, 54, 150, 120, 110],\n",
    "- ks = [401, 574, 874, 919, 459, 739, 653, 902, 746, 832].\n",
    "#### Найдите ковариацию этих двух величин с помощью элементарных действий, а затем с помощью функции cov из numpy. Полученные значения должны быть равны. Найдите коэффициент корреляции Пирсона с помощью ковариации и среднеквадратичных отклонений двух признаков, а затем с использованием функций из библиотек numpy и pandas."
   ]
  },
  {
   "cell_type": "code",
   "execution_count": 28,
   "id": "db54308f",
   "metadata": {},
   "outputs": [
    {
     "name": "stdout",
     "output_type": "stream",
     "text": [
      "Ковариация равна 9157.839999999997\n",
      "Корреляция равна 0.8874900920739158\n"
     ]
    }
   ],
   "source": [
    "zp = [35, 45, 190, 200, 40, 70, 54, 150, 120, 110]\n",
    "ks = [401, 574, 874, 919, 459, 739, 653, 902, 746, 832]\n",
    "zpks = [x*y for x, y in zip(zp, ks)]\n",
    "zp_mean = sum(zp)/len(zp)\n",
    "ks_mean = sum(ks)/len(ks)\n",
    "cov1 = sum(zpks)/len(zpks) - (zp_mean * ks_mean)\n",
    "print(f'Ковариация равна {cov1}')\n",
    "sq_res_zp = (sum([(x - zp_mean)**2 for x in zp])/len(zp))**0.5\n",
    "sq_res_ks = (sum([(x - ks_mean)**2 for x in ks])/len(ks))**0.5\n",
    "cor = cov1/(sq_res_zp * sq_res_ks)\n",
    "print(f'Корреляция равна {cor}')"
   ]
  },
  {
   "cell_type": "code",
   "execution_count": 30,
   "id": "ffdff1ee",
   "metadata": {},
   "outputs": [
    {
     "name": "stdout",
     "output_type": "stream",
     "text": [
      "9157.840000000002\n",
      "0.8874900920739163\n"
     ]
    }
   ],
   "source": [
    "# То же только с numpy \n",
    "zp_np = np.array(zp)\n",
    "ks_np = np.array(ks)\n",
    "print(np.cov(zp_np, ks_np, ddof=0)[0][1])\n",
    "print(np.corrcoef(zp_np, ks_np)[0][1])"
   ]
  },
  {
   "cell_type": "markdown",
   "id": "44f1e206",
   "metadata": {},
   "source": [
    "#### 2. Измерены значения IQ выборки студентов, обучающихся в местных технических вузах: 131, 125, 115, 122, 131, 115, 107, 99, 125, 111. Известно, что в генеральной совокупности IQ распределен нормально. Найдите доверительный интервал для математического ожидания с надежностью 0.95."
   ]
  },
  {
   "cell_type": "code",
   "execution_count": 12,
   "id": "d76583eb",
   "metadata": {},
   "outputs": [
    {
     "data": {
      "text/plain": [
       "118.1"
      ]
     },
     "execution_count": 12,
     "metadata": {},
     "output_type": "execute_result"
    }
   ],
   "source": [
    "iq = np.array([131, 125, 115, 122, 131, 115, 107, 99, 125, 111])\n",
    "iq.mean()"
   ]
  },
  {
   "cell_type": "code",
   "execution_count": 13,
   "id": "0c9aac6e",
   "metadata": {},
   "outputs": [],
   "source": [
    "t = 2.262"
   ]
  },
  {
   "cell_type": "code",
   "execution_count": 14,
   "id": "9b5e8aa9",
   "metadata": {},
   "outputs": [],
   "source": [
    "lower = iq.mean() - (t * (iq.std(ddof=1)))/(10**0.5)"
   ]
  },
  {
   "cell_type": "code",
   "execution_count": 15,
   "id": "f89f201a",
   "metadata": {},
   "outputs": [],
   "source": [
    "upper = iq.mean() + (t * (iq.std(ddof=1)))/(10**0.5)"
   ]
  },
  {
   "cell_type": "code",
   "execution_count": 16,
   "id": "bf58883d",
   "metadata": {},
   "outputs": [
    {
     "data": {
      "text/plain": [
       "(110.55660776308164, 125.64339223691834)"
      ]
     },
     "execution_count": 16,
     "metadata": {},
     "output_type": "execute_result"
    }
   ],
   "source": [
    "lower, upper"
   ]
  },
  {
   "cell_type": "markdown",
   "id": "d1330c76",
   "metadata": {},
   "source": [
    "#### 3. Известно, что рост футболистов в сборной распределен нормально с дисперсией генеральной совокупности, равной 25 кв.см. Объем выборки равен 27, среднее выборочное составляет 174.2. Найдите доверительный интервал для математического ожидания с надежностью 0.95."
   ]
  },
  {
   "cell_type": "code",
   "execution_count": 17,
   "id": "55c92126",
   "metadata": {},
   "outputs": [],
   "source": [
    "n = 27\n",
    "std = 5\n",
    "mu = 174.2\n",
    "z = 1.96"
   ]
  },
  {
   "cell_type": "code",
   "execution_count": 18,
   "id": "3b5b5154",
   "metadata": {},
   "outputs": [],
   "source": [
    "lower = mu - (z * std/(27 ** 0.5))"
   ]
  },
  {
   "cell_type": "code",
   "execution_count": 19,
   "id": "a25bb586",
   "metadata": {},
   "outputs": [],
   "source": [
    "upper = mu + (z * std/(27 ** 0.5))"
   ]
  },
  {
   "cell_type": "code",
   "execution_count": 20,
   "id": "d56aab0c",
   "metadata": {},
   "outputs": [
    {
     "data": {
      "text/plain": [
       "(172.31398912064722, 176.08601087935276)"
      ]
     },
     "execution_count": 20,
     "metadata": {},
     "output_type": "execute_result"
    }
   ],
   "source": [
    "lower, upper"
   ]
  },
  {
   "cell_type": "code",
   "execution_count": null,
   "id": "788af2aa",
   "metadata": {},
   "outputs": [],
   "source": []
  }
 ],
 "metadata": {
  "kernelspec": {
   "display_name": "Python 3 (ipykernel)",
   "language": "python",
   "name": "python3"
  },
  "language_info": {
   "codemirror_mode": {
    "name": "ipython",
    "version": 3
   },
   "file_extension": ".py",
   "mimetype": "text/x-python",
   "name": "python",
   "nbconvert_exporter": "python",
   "pygments_lexer": "ipython3",
   "version": "3.9.7"
  }
 },
 "nbformat": 4,
 "nbformat_minor": 5
}
