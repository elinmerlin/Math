{
 "cells": [
  {
   "cell_type": "code",
   "execution_count": 2,
   "id": "eb9e1f48",
   "metadata": {},
   "outputs": [],
   "source": [
    "from math import factorial"
   ]
  },
  {
   "cell_type": "markdown",
   "id": "1b58a49f",
   "metadata": {},
   "source": [
    "### 1. Из колоды в 52 карты извлекаются случайным образом 4 карты. a) Найти вероятность того, что все карты – крести. б) Найти вероятность, что среди 4-х карт окажется хотя бы один туз."
   ]
  },
  {
   "cell_type": "markdown",
   "id": "e2359a81",
   "metadata": {},
   "source": [
    "а) При последовательном извлечении вероятность извлечения крестей будет постепенно уменьшаться. Изначально вероятность вытащить крести 13/52 => затем остаются 51 карта, из которых 12 крестей и т.д."
   ]
  },
  {
   "cell_type": "code",
   "execution_count": 13,
   "id": "dee34c13",
   "metadata": {},
   "outputs": [
    {
     "name": "stdout",
     "output_type": "stream",
     "text": [
      "Вероятность, что все карты - крести - 0.0026410564225690276\n"
     ]
    }
   ],
   "source": [
    "p = 13/52 * 12/51 * 11/50 * 10/49\n",
    "print(f'Вероятность, что все карты - крести - {p}')"
   ]
  },
  {
   "cell_type": "markdown",
   "id": "54da7bff",
   "metadata": {},
   "source": [
    "Также можно вычислить все возможные комбинации из 52 карт, все возможные комбинации из крестей и вычислить какую долю от всех комбинаций они составляют:"
   ]
  },
  {
   "cell_type": "code",
   "execution_count": 4,
   "id": "8bb3a800",
   "metadata": {},
   "outputs": [],
   "source": [
    "def combinations(n, k):\n",
    "    return factorial(n) / (factorial(k) * factorial(n - k))"
   ]
  },
  {
   "cell_type": "code",
   "execution_count": 12,
   "id": "9324b256",
   "metadata": {},
   "outputs": [
    {
     "data": {
      "text/plain": [
       "0.0026410564225690276"
      ]
     },
     "execution_count": 12,
     "metadata": {},
     "output_type": "execute_result"
    }
   ],
   "source": [
    "combinations(13, 4) / combinations(52, 4)"
   ]
  },
  {
   "cell_type": "markdown",
   "id": "926c1a38",
   "metadata": {},
   "source": [
    "б) Чтобы вычислить верятность, что среди 4 карт будет хоть один туз, можно вычислить вероятность вытащить 4 карты без тузов и отнять это число из 1"
   ]
  },
  {
   "cell_type": "code",
   "execution_count": 10,
   "id": "383e10b0",
   "metadata": {},
   "outputs": [
    {
     "name": "stdout",
     "output_type": "stream",
     "text": [
      "Вероятность, что среди 4-х карт окажется хотя бы один туз - 0.2812632745405854\n"
     ]
    }
   ],
   "source": [
    "p = 1 - 48/52 * 47/51 * 46/50 * 45/49\n",
    "print(f'Вероятность, что среди 4-х карт окажется хотя бы один туз - {p}')"
   ]
  },
  {
   "cell_type": "markdown",
   "id": "2eefd71e",
   "metadata": {},
   "source": [
    "То же самое с сочетаниями: "
   ]
  },
  {
   "cell_type": "code",
   "execution_count": 11,
   "id": "fc747a33",
   "metadata": {},
   "outputs": [
    {
     "data": {
      "text/plain": [
       "0.2812632745405854"
      ]
     },
     "execution_count": 11,
     "metadata": {},
     "output_type": "execute_result"
    }
   ],
   "source": [
    "1 - combinations(48, 4)/combinations(52, 4)"
   ]
  },
  {
   "cell_type": "markdown",
   "id": "09ae37fb",
   "metadata": {},
   "source": [
    "### 2. На входной двери подъезда установлен кодовый замок, содержащий десять кнопок с цифрами от 0 до 9. Код содержит три цифры, которые нужно нажать одновременно. Какова вероятность того, что человек, не знающий код, откроет дверь с первой попытки?"
   ]
  },
  {
   "cell_type": "markdown",
   "id": "cc60188c",
   "metadata": {},
   "source": [
    "Цифры нужно нажать одновременно => порядок не важен => используем формулу сочетаний. Вычислим все сочетания из 10 цифр, одно из которых верное. "
   ]
  },
  {
   "cell_type": "code",
   "execution_count": 17,
   "id": "94d4f1f6",
   "metadata": {},
   "outputs": [
    {
     "name": "stdout",
     "output_type": "stream",
     "text": [
      "Вероятность того, что человек, не знающий код, откроет дверь с первой попытки - 0.0083\n"
     ]
    }
   ],
   "source": [
    "p = 1 / combinations(10, 3)\n",
    "print(f'Вероятность того, что человек, не знающий код, откроет дверь с первой попытки - {round(p, 4)}')"
   ]
  },
  {
   "cell_type": "markdown",
   "id": "3c1549c7",
   "metadata": {},
   "source": [
    "### 3. В ящике имеется 15 деталей, из которых 9 окрашены. Рабочий случайным образом извлекает 3 детали. Какова вероятность того, что все извлеченные детали окрашены?"
   ]
  },
  {
   "cell_type": "markdown",
   "id": "1418812a",
   "metadata": {},
   "source": [
    "Вычислим все сочентания из окрашенных деталей и то, какую долю эти сочетания составляют из всех возможных сочетаний."
   ]
  },
  {
   "cell_type": "code",
   "execution_count": 19,
   "id": "4e497ab1",
   "metadata": {},
   "outputs": [
    {
     "name": "stdout",
     "output_type": "stream",
     "text": [
      "Вероятность того, что все извлеченные детали окрашены - 0.18461538461538463\n"
     ]
    }
   ],
   "source": [
    "p = combinations(9, 3)/combinations(15, 3)\n",
    "print(f'Вероятность того, что все извлеченные детали окрашены - {p}')"
   ]
  },
  {
   "cell_type": "markdown",
   "id": "339061b6",
   "metadata": {},
   "source": [
    "### 4. В лотерее 100 билетов. Из них 2 выигрышных. Какова вероятность того, что 2 приобретенных билета окажутся выигрышными?"
   ]
  },
  {
   "cell_type": "code",
   "execution_count": 21,
   "id": "05ceb95d",
   "metadata": {},
   "outputs": [
    {
     "name": "stdout",
     "output_type": "stream",
     "text": [
      "Вероятность того, что 2 приобретенных билета окажутся выигрышными - 0.0004\n"
     ]
    }
   ],
   "source": [
    "p = 2/100 * 2/100\n",
    "print(f'Вероятность того, что 2 приобретенных билета окажутся выигрышными - {p}')"
   ]
  }
 ],
 "metadata": {
  "kernelspec": {
   "display_name": "Python 3 (ipykernel)",
   "language": "python",
   "name": "python3"
  },
  "language_info": {
   "codemirror_mode": {
    "name": "ipython",
    "version": 3
   },
   "file_extension": ".py",
   "mimetype": "text/x-python",
   "name": "python",
   "nbconvert_exporter": "python",
   "pygments_lexer": "ipython3",
   "version": "3.9.7"
  }
 },
 "nbformat": 4,
 "nbformat_minor": 5
}
