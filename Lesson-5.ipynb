{
 "cells": [
  {
   "cell_type": "markdown",
   "id": "a68f894b",
   "metadata": {},
   "source": [
    "### Задание с прошлых уроков "
   ]
  },
  {
   "cell_type": "markdown",
   "id": "dda79c6c",
   "metadata": {},
   "source": [
    "В прошлый раз потеряла 3 и 4 корни "
   ]
  },
  {
   "cell_type": "code",
   "execution_count": 4,
   "id": "a786dc36",
   "metadata": {
    "scrolled": true
   },
   "outputs": [
    {
     "name": "stderr",
     "output_type": "stream",
     "text": [
      "/var/folders/26/z2nqh3_14yvc9ykd149kl1540000gn/T/ipykernel_6057/3516948912.py:5: RuntimeWarning: invalid value encountered in true_divide\n",
      "  plt.plot(x, (np.exp(x) + x - 1)/x)\n"
     ]
    },
    {
     "data": {
      "text/plain": [
       "[<matplotlib.lines.Line2D at 0x7fbfd808a910>]"
      ]
     },
     "execution_count": 4,
     "metadata": {},
     "output_type": "execute_result"
    },
    {
     "data": {
      "image/png": "[encoded data removed]",
      "text/plain": [
       "<Figure size 432x288 with 1 Axes>"
      ]
     },
     "metadata": {
      "needs_background": "light"
     },
     "output_type": "display_data"
    }
   ],
   "source": [
    "%matplotlib inline\n",
    "import numpy as np\n",
    "import matplotlib.pyplot as plt\n",
    "x = np.linspace(-5, 5, 2001)\n",
    "plt.plot(x, (np.exp(x) + x - 1)/x)\n",
    "plt.plot(x, x**2 - 1)"
   ]
  },
  {
   "cell_type": "code",
   "execution_count": 19,
   "id": "6489ddd1",
   "metadata": {},
   "outputs": [
    {
     "name": "stdout",
     "output_type": "stream",
     "text": [
      "Корни системы уравнений: (2.6181455730850116, 5.854686241864718)\n",
      " (4.200105841149689, 16.640889076862805)\n",
      " (-1.5818353528958997, 1.5022030836712943)\n",
      " (0.0, -1.0)\n"
     ]
    }
   ],
   "source": [
    "from scipy.optimize import fsolve\n",
    "def f(p):\n",
    "    x, y = p\n",
    "    return (np.exp(x) + x*(1 - y) - 1, x**2 - 1 - y)\n",
    "\n",
    "x1, y1 = fsolve(f, (2, 2))\n",
    "x2, y2 = fsolve(f, (4, 15))\n",
    "x3, y3 = fsolve(f, (-2, 5))\n",
    "x4, y4 = fsolve(f, (0, -1))\n",
    "print(f\"Корни системы уравнений: {x1, y1}\\n {x2, y2}\\n {x3, y3}\\n {x4, y4}\")"
   ]
  },
  {
   "cell_type": "markdown",
   "id": "da5f379a",
   "metadata": {},
   "source": [
    "### Код, моделирующий выпадение поля в рулетке (с учетом поля зеро)"
   ]
  },
  {
   "cell_type": "code",
   "execution_count": 9,
   "id": "dddd4b2a",
   "metadata": {},
   "outputs": [
    {
     "name": "stdout",
     "output_type": "stream",
     "text": [
      "Подкидывание шарика\n",
      "Результат: 2\n",
      "Подкидывание шарика\n",
      "Результат: 32\n",
      "Подкидывание шарика\n",
      "Результат: 20\n"
     ]
    }
   ],
   "source": [
    "from random import randint\n",
    "\n",
    "for i in range(0, 3): \n",
    "    input(\"Подкидывание шарика\")\n",
    "    print(f\"Результат: {randint(0, 36)}\")"
   ]
  },
  {
   "cell_type": "markdown",
   "id": "6e157a5e",
   "metadata": {},
   "source": [
    "### Код, проверяющий теорему умножения вероятности на примере подбрасывания монетки"
   ]
  },
  {
   "cell_type": "markdown",
   "id": "e224928d",
   "metadata": {},
   "source": [
    "Возьмем задачу с подбрасыванием слегка изогнутой монеты (видела такую задачу к собеседованию) с вероятностью выпадения \"орла\" - q, \"решки\" - p. q не равно p. Будем подбрасывать монету два раза подряд, посчитаем вероятности выпадения разных сочетаний, проверим на этом примере теорему умножения."
   ]
  },
  {
   "cell_type": "code",
   "execution_count": 14,
   "id": "fb926d77",
   "metadata": {},
   "outputs": [
    {
     "name": "stdout",
     "output_type": "stream",
     "text": [
      "Теорема умножения вероятностей верна\n"
     ]
    }
   ],
   "source": [
    "p = 2/3\n",
    "q = 1 - p\n",
    "v1 = p*p                    # Вероятность выпадения орла в двух последовательных испытаниях \n",
    "v2 = q*q                    # Вероятность выпадения решки в двух последовательных испытаниях \n",
    "v3 = p*q                    # Вероятность выпадения сначала орла, а затем решки в двух последовательных испытаниях \n",
    "v4 = q*p                    # Вероятность выпадения сначала решки, затем орла в двух последовательных испытаниях \n",
    "if v1 + v2 + v3 + v4 == 1:  # Сумма вероятностей полной группы событий должна быть равна 1 \n",
    "    print(\"Теорема умножения вероятностей верна\")\n",
    "    \n",
    "# P. S. На этом примере видим, что можно играть даже с изогнутой монеткой, т.к. pq = qp  "
   ]
  },
  {
   "cell_type": "markdown",
   "id": "ee322610",
   "metadata": {},
   "source": [
    "### Постоение гистограммы "
   ]
  },
  {
   "cell_type": "code",
   "execution_count": 86,
   "id": "397a042f",
   "metadata": {},
   "outputs": [
    {
     "data": {
      "text/plain": [
       "Text(0.5, 1.0, 'Распределение суммы случайных чисел из 10 выборок')"
      ]
     },
     "execution_count": 86,
     "metadata": {},
     "output_type": "execute_result"
    },
    {
     "data": {
      "image/png": "[encoded data removed]",
      "text/plain": [
       "<Figure size 432x288 with 1 Axes>"
      ]
     },
     "metadata": {
      "needs_background": "light"
     },
     "output_type": "display_data"
    }
   ],
   "source": [
    "%matplotlib inline\n",
    "import numpy as np\n",
    "import matplotlib.pyplot as plt\n",
    "\n",
    "general = []\n",
    "for i in range (0,10):\n",
    "    general.append(np.random.rand(1000))\n",
    "    \n",
    "a = np.array(general)\n",
    "res = np.sum(a, axis=0)\n",
    "plt.hist(res)\n",
    "plt.title(\"Распределение суммы случайных чисел из 10 выборок\")"
   ]
  },
  {
   "cell_type": "markdown",
   "id": "dbd9b62f",
   "metadata": {},
   "source": [
    "### Дополнение метода Монте-Карло методом Бернулли"
   ]
  },
  {
   "cell_type": "code",
   "execution_count": 45,
   "id": "c620fd3b",
   "metadata": {},
   "outputs": [
    {
     "name": "stdout",
     "output_type": "stream",
     "text": [
      "Вероятность выпадения орла два раза в четырех испытаниях по методу Монте-Карло - 0.37562,\n",
      "по формуле Бернулли - 0.375\n"
     ]
    }
   ],
   "source": [
    "%matplotlib inline\n",
    "import numpy as np\n",
    "import math\n",
    "\n",
    "k, n = 0, 100000\n",
    "a = np.random.randint(0, 2, n)\n",
    "b = np.random.randint(0, 2, n)\n",
    "c = np.random.randint(0, 2, n)\n",
    "d = np.random.randint(0, 2, n)\n",
    "x = a + b + c + d\n",
    "for i in range(0, n):\n",
    "    if x[i] == 2:\n",
    "        k = k + 1\n",
    "mk = k/n\n",
    "\n",
    "# Метод Бернулли \n",
    "\n",
    "m = 2       # Ожидаемое количество выпадений орла\n",
    "n = 4       # Количество испытаний\n",
    "p = 1/2     # Вероятность выпадения орла\n",
    "q = 1 - p   # Вероятность НЕвыпадения орла\n",
    "\n",
    "ber = math.factorial(n)/(math.factorial(n-m)*math.factorial(m)) * p**m * q**(n-m)\n",
    "\n",
    "print(f\"Вероятность выпадения орла два раза в четырех испытаниях по методу Монте-Карло - {mk},\\nпо формуле Бернулли - {ber}\")"
   ]
  },
  {
   "cell_type": "markdown",
   "id": "05272a52",
   "metadata": {},
   "source": [
    "В данном же коде можно менять значения n (чем больше это значение, тем ближе результат Монте-Карло к Бернулли, т.е. резултат точнее), и значение k (на строчке с if x[i] == 2:)- то есть искать вероятность выпадения не 2 из 4, а, скажем, 1 из 4 (в методе Бернулли это будет соответствовать переменной m). Не буду дублировать код ради этих примеров))"
   ]
  },
  {
   "cell_type": "markdown",
   "id": "a2863dd3",
   "metadata": {},
   "source": [
    "### Варианты перестановок "
   ]
  },
  {
   "cell_type": "code",
   "execution_count": 48,
   "id": "dc8e54f1",
   "metadata": {},
   "outputs": [
    {
     "name": "stdout",
     "output_type": "stream",
     "text": [
      "123\n",
      "124\n",
      "132\n",
      "134\n",
      "142\n",
      "143\n",
      "213\n",
      "214\n",
      "231\n",
      "234\n",
      "241\n",
      "243\n",
      "312\n",
      "314\n",
      "321\n",
      "324\n",
      "341\n",
      "342\n",
      "412\n",
      "413\n",
      "421\n",
      "423\n",
      "431\n",
      "432\n"
     ]
    }
   ],
   "source": [
    "import itertools\n",
    "\n",
    "for p in itertools.permutations('1234', 3):  \n",
    "    print(''.join(p))"
   ]
  },
  {
   "cell_type": "markdown",
   "id": "45f1448e",
   "metadata": {},
   "source": [
    "### Расчет коэффициента корреляции"
   ]
  },
  {
   "cell_type": "code",
   "execution_count": 85,
   "id": "6f221344",
   "metadata": {},
   "outputs": [
    {
     "name": "stdout",
     "output_type": "stream",
     "text": [
      "[[1.         0.99437019]\n",
      " [0.99437019 1.        ]]\n",
      "0.9943701929979405\n"
     ]
    },
    {
     "data": {
      "image/png": "[encoded data removed]",
      "text/plain": [
       "<Figure size 432x288 with 1 Axes>"
      ]
     },
     "metadata": {
      "needs_background": "light"
     },
     "output_type": "display_data"
    }
   ],
   "source": [
    "%matplotlib inline\n",
    "import numpy as np\n",
    "import matplotlib.pyplot as plt\n",
    "from statistics import mean \n",
    "\n",
    "n = 100\n",
    "r = 0.9\n",
    "x = np.random.rand(n)\n",
    "y = r*x + (1 - r)*np.random.rand(n)\n",
    "plt.plot(x, y, 'o')\n",
    "c = np.corrcoef(x, y)\n",
    "print(c)\n",
    "\n",
    "# Коэффициент корелляции ручным способ\n",
    "\n",
    "xm = mean(x)\n",
    "ym = mean(y) \n",
    "xmm = [x - xm for x in x]\n",
    "ymm = [y - ym for y in y]\n",
    "n = [x * y for x, y in zip(xmm, ymm)]\n",
    "m = [x**2 for x in xmm]\n",
    "l = [y**2 for y in ymm]\n",
    "r = sum(n)/(sum(m)*sum(l))**(0.5)\n",
    "print(r)"
   ]
  }
 ],
 "metadata": {
  "kernelspec": {
   "display_name": "Python 3 (ipykernel)",
   "language": "python",
   "name": "python3"
  },
  "language_info": {
   "codemirror_mode": {
    "name": "ipython",
    "version": 3
   },
   "file_extension": ".py",
   "mimetype": "text/x-python",
   "name": "python",
   "nbconvert_exporter": "python",
   "pygments_lexer": "ipython3",
   "version": "3.9.7"
  }
 },
 "nbformat": 4,
 "nbformat_minor": 5
}
