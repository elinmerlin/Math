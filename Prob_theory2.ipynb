{
 "cells": [
  {
   "cell_type": "code",
   "execution_count": 14,
   "id": "1cdea625",
   "metadata": {},
   "outputs": [],
   "source": [
    "from math import factorial\n",
    "import numpy as np"
   ]
  },
  {
   "cell_type": "code",
   "execution_count": 2,
   "id": "cc3f5764",
   "metadata": {},
   "outputs": [],
   "source": [
    "def combinations(n, k):\n",
    "    return factorial(n) / (factorial(k) * factorial(n - k))"
   ]
  },
  {
   "cell_type": "markdown",
   "id": "e53e3524",
   "metadata": {},
   "source": [
    "### 1. Вероятность того, что стрелок попадет в мишень, выстрелив один раз, равна 0.8. Стрелок выстрелил 100 раз. Найдите вероятность того, что стрелок попадет в цель ровно 85 раз."
   ]
  },
  {
   "cell_type": "markdown",
   "id": "d00d6fc0",
   "metadata": {},
   "source": [
    "Используем формулу Бернулли:\n",
    "$$p(k=85) = C_n^kp^kq^{n-k}$$"
   ]
  },
  {
   "cell_type": "code",
   "execution_count": 17,
   "id": "0b9a9827",
   "metadata": {},
   "outputs": [
    {
     "name": "stdout",
     "output_type": "stream",
     "text": [
      "Вероятность того, что стрелок попадет в цель ровно 85 раз - 0.048\n"
     ]
    }
   ],
   "source": [
    "p = combinations(100, 85) * 0.8**85 * 0.2**15\n",
    "print(f'Вероятность того, что стрелок попадет в цель ровно 85 раз - {round(p, 3)}')"
   ]
  },
  {
   "cell_type": "markdown",
   "id": "c5ac77ed",
   "metadata": {},
   "source": [
    "### 2. Вероятность того, что лампочка перегорит в течение первого дня эксплуатации, равна 0.0004. В жилом комплексе после ремонта в один день включили 5000 новых лампочек. Какова вероятность, что ни одна из них не перегорит в первый день? Какова вероятность, что перегорят ровно две?"
   ]
  },
  {
   "cell_type": "markdown",
   "id": "c8841b04",
   "metadata": {},
   "source": [
    "Используем формулу Пуассона:\n",
    "$$P_m \\approx \\frac{\\lambda^m}{m!}e^{-\\lambda}$$"
   ]
  },
  {
   "cell_type": "markdown",
   "id": "c7ea2ada",
   "metadata": {},
   "source": [
    "m = 0 (ни одна лампочка не перегорит)\n",
    "\n",
    "λ = p*n = 0.0004 * 5000"
   ]
  },
  {
   "cell_type": "code",
   "execution_count": 19,
   "id": "154c9c2d",
   "metadata": {},
   "outputs": [
    {
     "name": "stdout",
     "output_type": "stream",
     "text": [
      "Вероятность, что ни одна из лампочек не перегорит в первый день - 0.135\n"
     ]
    }
   ],
   "source": [
    "lamb = 0.0004 * 5000\n",
    "m = 0\n",
    "p = ((lamb**m)/factorial(m)) * np.exp(-lamb)\n",
    "print(f'Вероятность, что ни одна из лампочек не перегорит в первый день - {round(p, 3)}')"
   ]
  },
  {
   "cell_type": "code",
   "execution_count": 21,
   "id": "5c9efde3",
   "metadata": {},
   "outputs": [
    {
     "name": "stdout",
     "output_type": "stream",
     "text": [
      "Вероятность, что перегорят ровно две лампочки - 0.271\n"
     ]
    }
   ],
   "source": [
    "lamb = 0.0004 * 5000\n",
    "m = 2\n",
    "p = ((lamb**m)/factorial(m)) * np.exp(-lamb)\n",
    "print(f'Вероятность, что перегорят ровно две лампочки - {round(p, 3)}')"
   ]
  },
  {
   "cell_type": "markdown",
   "id": "bca3f964",
   "metadata": {},
   "source": [
    "### 3. Монету подбросили 144 раза. Какова вероятность, что орел выпадет ровно 70 раз?"
   ]
  },
  {
   "cell_type": "code",
   "execution_count": 24,
   "id": "cb4fbbe2",
   "metadata": {},
   "outputs": [
    {
     "name": "stdout",
     "output_type": "stream",
     "text": [
      "Вероятность, что орел выпадет ровно 70 раз - 0.063\n"
     ]
    }
   ],
   "source": [
    "p = combinations(144, 70) * 0.5**70 * 0.5**74\n",
    "print(f'Вероятность, что орел выпадет ровно 70 раз - {round(p, 3)}')"
   ]
  },
  {
   "cell_type": "markdown",
   "id": "2382e4af",
   "metadata": {},
   "source": [
    "### 4. В первом ящике находится 10 мячей, из которых 7 - белые. Во втором ящике - 11 мячей, из которых 9 белых. Из каждого ящика вытаскивают случайным образом по два мяча. Какова вероятность того, что все мячи белые? Какова вероятность того, что ровно два мяча белые? Какова вероятность того, что хотя бы один мяч белый?"
   ]
  },
  {
   "cell_type": "markdown",
   "id": "89c12fef",
   "metadata": {},
   "source": [
    "Вероятность того, что все мячи белые:"
   ]
  },
  {
   "cell_type": "code",
   "execution_count": 31,
   "id": "04a0b6b5",
   "metadata": {},
   "outputs": [
    {
     "data": {
      "text/plain": [
       "0.3054545454545454"
      ]
     },
     "execution_count": 31,
     "metadata": {},
     "output_type": "execute_result"
    }
   ],
   "source": [
    "7/10 * 6/9 * 9/11 * 8/10"
   ]
  },
  {
   "cell_type": "markdown",
   "id": "d608908a",
   "metadata": {},
   "source": [
    "Все возможные комбинации, когда ровно два мяча из четырех белые: бб чч, чч бб, бч бч, бч чб, чб бч, чб чб"
   ]
  },
  {
   "cell_type": "code",
   "execution_count": 32,
   "id": "0d86b1bd",
   "metadata": {},
   "outputs": [
    {
     "data": {
      "text/plain": [
       "0.20484848484848484"
      ]
     },
     "execution_count": 32,
     "metadata": {},
     "output_type": "execute_result"
    }
   ],
   "source": [
    "(7/10 * 6/9 * 2/11 * 1/10) + (9/11 * 8/10 * 3/10 * 2/9) + (7/10 * 3/9 * 9/11 * 2/10) + (7/10 * 3/9 * 2/11 * 9/10) + (3/10 * 7/9 * 9/11 * 2/10) + (3/10 * 7/9 * 2/11 * 9/10)"
   ]
  },
  {
   "cell_type": "markdown",
   "id": "b67a9db2",
   "metadata": {},
   "source": [
    "Чтобы выяснить вероятность того, что хотя бы один мяч белый, нужно вычислить вероятность, что все мячи окажутся черными и вычесть это число из 1."
   ]
  },
  {
   "cell_type": "code",
   "execution_count": 33,
   "id": "89f97617",
   "metadata": {},
   "outputs": [
    {
     "data": {
      "text/plain": [
       "0.9987878787878788"
      ]
     },
     "execution_count": 33,
     "metadata": {},
     "output_type": "execute_result"
    }
   ],
   "source": [
    "1 - 3/10 * 2/9 * 2/11 * 1/10"
   ]
  }
 ],
 "metadata": {
  "kernelspec": {
   "display_name": "Python 3 (ipykernel)",
   "language": "python",
   "name": "python3"
  },
  "language_info": {
   "codemirror_mode": {
    "name": "ipython",
    "version": 3
   },
   "file_extension": ".py",
   "mimetype": "text/x-python",
   "name": "python",
   "nbconvert_exporter": "python",
   "pygments_lexer": "ipython3",
   "version": "3.9.7"
  }
 },
 "nbformat": 4,
 "nbformat_minor": 5
}
